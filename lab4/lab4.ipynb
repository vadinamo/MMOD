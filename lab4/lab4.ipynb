{
 "cells": [
  {
   "cell_type": "code",
   "execution_count": 325,
   "metadata": {},
   "outputs": [
    {
     "name": "stdout",
     "output_type": "stream",
     "text": [
      "                    Вероятность отказа   Относительная пропускная способность  Абсолютая пропускная способность  Среднее число занятых каналов \n",
      " Без взаимопомощи  0.26666666666666666            0.7333333333333334                  2.9333333333333336              1.4666666666666668       \n",
      "  Неограниченная   0.010666666666666668           0.9893333333333333                  3.957333333333333               1.9786666666666666       \n",
      "   Равномерная     0.010666666666666668           0.9893333333333333                  3.957333333333333               1.9786666666666666       \n"
     ]
    }
   ],
   "source": [
    "from math import factorial, floor, ceil\n",
    "\n",
    "def print_table(arr, rows=[], columns=[]):\n",
    "    if len(rows) > 0:\n",
    "        for i in range(len(rows)):\n",
    "            arr[i] = [str(rows[i])] + arr[i]\n",
    "\n",
    "    if len(columns) > 0:\n",
    "        arr = [[' '] + list(map(str, columns))] + arr\n",
    "\n",
    "    row_lengths = [max(map(lambda x: len(str(x)), column)) for column in zip(*arr)]\n",
    "\n",
    "    for row in arr:\n",
    "        for i in range(len(row)):\n",
    "            padding = row_lengths[i] - len(str(row[i])) + 2\n",
    "            print(f'{\" \" * floor(padding / 2)}{row[i]}{\" \" * ceil(padding / 2)}', end='')\n",
    "        print()\n",
    "\n",
    "def calculate(lamb, mu, n, assistance=False):\n",
    "    ro = lamb / mu\n",
    "    p0 = 1 / sum((1 / factorial(k)) * ro ** k for k in range(n))\n",
    "\n",
    "    # p_cancelation = (1 / factorial(n) * (lamb / (n * mu))**n) * (p0 ** n if assistance else p0)\n",
    "    p_cancelation = (ro ** n) / factorial(n) * (p0 ** n if assistance else p0)\n",
    "    # p_cancelation = 1 / (1 + sum([(ro ** k) / factorial(k) for k in range(n)]))\n",
    "    Q = 1 - p_cancelation\n",
    "    A = lamb * Q\n",
    "    n_o = A / mu\n",
    "\n",
    "    return [p_cancelation, Q, A, n_o]\n",
    "    \n",
    "n = 3\n",
    "lamb = 4\n",
    "mu = 2\n",
    "\n",
    "no_assistance = calculate(lamb, mu, n)\n",
    "unlimited_assistance = calculate(lamb, mu, n, assistance=True)\n",
    "uniform_assistance = calculate(lamb, mu, n, assistance=True)\n",
    "\n",
    "print_table([no_assistance, unlimited_assistance, uniform_assistance], \n",
    "            rows=['Без взаимопомощи', 'Неограниченная', 'Равномерная'], \n",
    "            columns=['Вероятность отказа', 'Относительная пропускная способность', 'Абсолютая пропускная способность', 'Среднее число занятых каналов'])"
   ]
  },
  {
   "cell_type": "code",
   "execution_count": 327,
   "metadata": {},
   "outputs": [
    {
     "name": "stdout",
     "output_type": "stream",
     "text": [
      "Total requests: 39896\n",
      "Rejected requests: 1005\n",
      "Probability of rejection: 0.025190495287748145\n"
     ]
    }
   ],
   "source": [
    "import simpy\n",
    "import random\n",
    "\n",
    "def source(env, arrival_rate, service_rate, channels):\n",
    "    global total_requests, rejected_requests\n",
    "    total_requests = 0\n",
    "    rejected_requests = 0\n",
    "    \n",
    "    while True:\n",
    "        yield env.timeout(random.expovariate(arrival_rate))\n",
    "        total_requests += 1\n",
    "        env.process(customer(env, channels, service_rate))\n",
    "\n",
    "def customer(env, channels, service_rate):\n",
    "    global rejected_requests\n",
    "    with channels.request() as req:\n",
    "        results = yield req | env.timeout(0, value='rejected')\n",
    "        \n",
    "        if req not in results:\n",
    "            rejected_requests += 1\n",
    "            return\n",
    "\n",
    "        yield env.timeout(random.expovariate(service_rate))\n",
    "\n",
    "def simulate(arrival_rate, service_rate, channels_count, sim_time):\n",
    "    env = simpy.Environment()\n",
    "    channels = simpy.Resource(env, capacity=channels_count)\n",
    "    env.process(source(env, arrival_rate, service_rate, channels))\n",
    "    env.run(until=sim_time)\n",
    "\n",
    "    probability_of_rejection = rejected_requests / total_requests if total_requests > 0 else 0\n",
    "\n",
    "    print(\"Total requests:\", total_requests)\n",
    "    print(\"Rejected requests:\", rejected_requests)\n",
    "    print(\"Probability of rejection:\", probability_of_rejection)\n",
    "\n",
    "# Параметры симуляции\n",
    "X = 4  # Заявки в минуту\n",
    "Y = 0.5  # Среднее время обслуживания одним каналом (в минутах)\n",
    "channels_count = 3  # Количество каналов\n",
    "sim_time = 10000  # Время симуляции (в минутах)\n",
    "\n",
    "# Интенсивность обслуживания заявки к каналами\n",
    "service_rate = channels_count / Y\n",
    "\n",
    "# Запуск симуляции\n",
    "simulate(X, service_rate, channels_count, sim_time)\n"
   ]
  }
 ],
 "metadata": {
  "kernelspec": {
   "display_name": ".venv",
   "language": "python",
   "name": "python3"
  },
  "language_info": {
   "codemirror_mode": {
    "name": "ipython",
    "version": 3
   },
   "file_extension": ".py",
   "mimetype": "text/x-python",
   "name": "python",
   "nbconvert_exporter": "python",
   "pygments_lexer": "ipython3",
   "version": "3.12.0"
  }
 },
 "nbformat": 4,
 "nbformat_minor": 2
}
