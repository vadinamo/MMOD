{
 "cells": [
  {
   "cell_type": "code",
   "execution_count": 8,
   "metadata": {},
   "outputs": [
    {
     "name": "stdout",
     "output_type": "stream",
     "text": [
      "Без взаимопомощи:\n",
      "{'P_0': 0.4186046511627907, 'L_q': 0.005813953488372091, 'L': 0.3391472868217054, 'W': 0.08478682170542635}\n",
      "\n",
      "Неограниченная взаимопомощь:\n",
      "{'P_0': 0.4762084567368864, 'L_q': 0.05012720597230382, 'L': 0.14536530121039906, 'W': 0.036341325302599765}\n",
      "\n",
      "Равномерная взаимопомощь:\n",
      "{'P_0': 0.4186046511627907, 'L_q': 0.20930232558139533, 'L': 0.5426356589147286, 'W': 0.13565891472868216}\n"
     ]
    }
   ],
   "source": [
    "import math\n",
    "\n",
    "def calculate_performance_parameters(X, Y, c, with_help=False):\n",
    "    # Расчет интенсивности обслуживания каждым каналом\n",
    "    lambdas = [k / Y for k in range(1, c+1)]\n",
    "\n",
    "    # Расчет интенсивности потока заявок\n",
    "    lambda_sum = sum(lambdas)\n",
    "\n",
    "    # Расчет интенсивности отказов\n",
    "    rho = X / lambda_sum\n",
    "\n",
    "    # Расчет вероятности отказа\n",
    "    P_0 = 1 / (1 + sum([(rho ** k) / math.factorial(k) for k in range(c)]))\n",
    "\n",
    "    # Расчет среднего числа занятых каналов\n",
    "    L_q = (rho ** c) * P_0 / (math.factorial(c) * (1 - rho) ** 2)\n",
    "\n",
    "    # Расчет среднего числа заявок в системе\n",
    "    L = L_q + X / lambda_sum\n",
    "\n",
    "    # Расчет среднего времени пребывания заявки в системе\n",
    "    W = L / X\n",
    "\n",
    "    if with_help:\n",
    "        # Учет взаимопомощи\n",
    "        L_q = rho * P_0 / (1 - rho)\n",
    "        L = L_q + X / lambda_sum\n",
    "        W = L / X\n",
    "\n",
    "    return {'P_0': P_0, 'L_q': L_q, 'L': L, 'W': W}\n",
    "\n",
    "# Параметры системы\n",
    "X = 4  # Интенсивность поступления заявок (заявки/мин)\n",
    "Y = 0.5  # Среднее время обслуживания одной заявки (мин)\n",
    "c = 3  # Количество каналов обслуживания\n",
    "\n",
    "# Расчет характеристик для трех вариантов использования\n",
    "without_help = calculate_performance_parameters(X, Y, c)\n",
    "unlimited_help = calculate_performance_parameters(X, Y, c * 2, with_help=True)  # Неограниченная взаимопомощь\n",
    "uniform_help = calculate_performance_parameters(X, Y, c, with_help=True)  # Равномерная взаимопомощь\n",
    "\n",
    "# Вывод результатов\n",
    "print(\"Без взаимопомощи:\")\n",
    "print(without_help)\n",
    "\n",
    "print(\"\\nНеограниченная взаимопомощь:\")\n",
    "print(unlimited_help)\n",
    "\n",
    "print(\"\\nРавномерная взаимопомощь:\")\n",
    "print(uniform_help)\n",
    "\n",
    "[1,]\n"
   ]
  },
  {
   "cell_type": "code",
   "execution_count": 48,
   "metadata": {},
   "outputs": [
    {
     "name": "stdout",
     "output_type": "stream",
     "text": [
      "Вероятность отказа заявки: 0.07708521529659738\n",
      "Относительная пропускная способность СМО: 0.9229147847034026\n",
      "Абсолютную пропускную способность: 3.6916591388136104\n",
      "Среднее число занятых обслуживанием каналов: 7.383318277627221\n"
     ]
    }
   ],
   "source": [
    "from math import factorial\n",
    "\n",
    "def step1(lamb, mu, n, assistance=False):\n",
    "    ro = lamb / mu\n",
    "    p0 = 1 / sum((1 / factorial(k)) * ro ** k for k in range(n))\n",
    "\n",
    "    p_cancelation = (1 / factorial(n) * (lamb / (n * mu))**n) * (p0 ** n if assistance else p0)\n",
    "    # p_cancelation = 1 / (1 + sum([(ro ** k) / factorial(k) for k in range(n)]))\n",
    "    Q = 1 - p_cancelation\n",
    "    A = lamb * Q\n",
    "    n_o = A / mu\n",
    "\n",
    "    print(f'Вероятность отказа заявки: {p_cancelation}')\n",
    "    print(f'Относительная пропускная способность СМО: {Q}')\n",
    "    print(f'Абсолютную пропускную способность: {A}')\n",
    "    print(f'Среднее число занятых обслуживанием каналов: {n_o}')\n",
    "    \n",
    "n = 3\n",
    "lamb = 4\n",
    "mu = 0.5\n",
    "\n",
    "step1(lamb, mu, n)"
   ]
  }
 ],
 "metadata": {
  "kernelspec": {
   "display_name": ".venv",
   "language": "python",
   "name": "python3"
  },
  "language_info": {
   "codemirror_mode": {
    "name": "ipython",
    "version": 3
   },
   "file_extension": ".py",
   "mimetype": "text/x-python",
   "name": "python",
   "nbconvert_exporter": "python",
   "pygments_lexer": "ipython3",
   "version": "3.12.0"
  }
 },
 "nbformat": 4,
 "nbformat_minor": 2
}
