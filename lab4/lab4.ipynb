{
 "cells": [
  {
   "cell_type": "code",
   "execution_count": 13,
   "metadata": {},
   "outputs": [
    {
     "name": "stdout",
     "output_type": "stream",
     "text": [
      "                                        Без взаимопомощи     Неограниченная         Равномерная     \n",
      "          Вероятность отказа           0.2222222222222222          0.4          0.12307692307692306 \n",
      " Относительная пропускная способность  0.7777777777777778          0.6          0.8769230769230769  \n",
      "   Абсолютая пропускная способность    3.111111111111111           2.4          3.5076923076923077  \n",
      "    Среднее число занятых каналов      1.5555555555555556          1.2          0.5846153846153846  \n",
      "         Коэффициент загрузки          0.5185185185185185  0.39999999999999997  0.19487179487179487 \n",
      "         Коэффициент простоя           0.4814814814814815  0.6000000000000001   0.8051282051282052  \n"
     ]
    }
   ],
   "source": [
    "from math import factorial, floor, ceil\n",
    "\n",
    "def print_table(arr, rows=[], columns=[]):\n",
    "    if len(rows) > 0:\n",
    "        for i in range(len(rows)):\n",
    "            arr[i] = [str(rows[i])] + arr[i]\n",
    "\n",
    "    if len(columns) > 0:\n",
    "        arr = [[' '] + list(map(str, columns))] + arr\n",
    "\n",
    "    row_lengths = [max(map(lambda x: len(str(x)), column)) for column in zip(*arr)]\n",
    "\n",
    "    for row in arr:\n",
    "        for i in range(len(row)):\n",
    "            padding = row_lengths[i] - len(str(row[i])) + 2\n",
    "            print(f'{\" \" * floor(padding / 2)}{row[i]}{\" \" * ceil(padding / 2)}', end='')\n",
    "        print()\n",
    "\n",
    "def calculate(lamb, mu, n, mode):\n",
    "    if mode == 1:\n",
    "        ro = lamb / mu\n",
    "        p0 = 1 / (1 + sum((1 / factorial(k)) * ro ** k for k in range(n)))\n",
    "        p_cancelation = (ro ** n) / factorial(n) * p0\n",
    "        Q = 1 - p_cancelation\n",
    "        A = lamb * Q\n",
    "        n_o = A / mu\n",
    "        k_load = n_o / n\n",
    "        k_downtime = 1 - k_load\n",
    "\n",
    "        return [p_cancelation, Q, A, n_o, k_load, k_downtime]\n",
    "    elif mode == 2:\n",
    "        ro = lamb / mu\n",
    "        p0 = n * mu / (n * mu + lamb)\n",
    "        p_cancelation = lamb / (n * mu + lamb)\n",
    "        Q = 1 - p_cancelation\n",
    "        A = lamb * Q\n",
    "        n_o = A / mu\n",
    "        k_load = n_o / n\n",
    "        k_downtime = 1 - k_load\n",
    "\n",
    "        return [p_cancelation, Q, A, n_o, k_load, k_downtime]\n",
    "    else:\n",
    "        ro = lamb / (n * mu)\n",
    "        p0 = (1 - ro) / (1 - (ro) ** (n + 1))\n",
    "        pk = (ro ** n) * p0\n",
    "        A = lamb * (1 - pk)\n",
    "        Q = (1 - pk)\n",
    "        n_o = A / (n * mu)\n",
    "        k_load = n_o / n\n",
    "        k_downtime = 1 - k_load\n",
    "\n",
    "        return [pk, Q, A, n_o, k_load, k_downtime]\n",
    "    \n",
    "n = 3\n",
    "lamb = 4\n",
    "mu = 2\n",
    "\n",
    "no_assistance = calculate(lamb, mu, n, mode=1)\n",
    "unlimited_assistance = calculate(lamb, mu, n, mode=2)\n",
    "uniform_assistance = calculate(lamb, mu, n, mode=3)\n",
    "\n",
    "print_table([list(item) for item in zip(*[no_assistance, unlimited_assistance, uniform_assistance][::1])],\n",
    "            columns=['Без взаимопомощи', 'Неограниченная', 'Равномерная'], \n",
    "            rows=['Вероятность отказа', 'Относительная пропускная способность', 'Абсолютая пропускная способность', \n",
    "                  'Среднее число занятых каналов', 'Коэффициент загрузки', 'Коэффициент простоя'])"
   ]
  }
 ],
 "metadata": {
  "kernelspec": {
   "display_name": ".venv",
   "language": "python",
   "name": "python3"
  },
  "language_info": {
   "codemirror_mode": {
    "name": "ipython",
    "version": 3
   },
   "file_extension": ".py",
   "mimetype": "text/x-python",
   "name": "python",
   "nbconvert_exporter": "python",
   "pygments_lexer": "ipython3",
   "version": "3.12.0"
  }
 },
 "nbformat": 4,
 "nbformat_minor": 2
}
