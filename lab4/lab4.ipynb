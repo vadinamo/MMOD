{
 "cells": [
  {
   "cell_type": "code",
   "execution_count": 89,
   "metadata": {},
   "outputs": [
    {
     "name": "stdout",
     "output_type": "stream",
     "text": [
      "                   Вероятность отказа   Относительная пропускная способность  Абсолютая пропускная способность  Среднее число занятых каналов \n",
      " Без взаимопомощи  0.07708521529659738           0.9229147847034026                  3.6916591388136104               7.383318277627221       \n",
      "  Неограниченная   4.5856761033074e-05           0.9999541432389669                  3.9998165729558677               7.999633145911735       \n",
      "   Равномерная     4.5856761033074e-05           0.9999541432389669                  3.9998165729558677               7.999633145911735       \n"
     ]
    }
   ],
   "source": [
    "from math import factorial, floor, ceil\n",
    "\n",
    "def print_table(arr, rows=[], columns=[]):\n",
    "    if len(rows) > 0:\n",
    "        for i in range(len(rows)):\n",
    "            arr[i] = [str(rows[i])] + arr[i]\n",
    "\n",
    "    if len(columns) > 0:\n",
    "        arr = [[' '] + list(map(str, columns))] + arr\n",
    "\n",
    "    row_lengths = [max(map(lambda x: len(str(x)), column)) for column in zip(*arr)]\n",
    "\n",
    "    for row in arr:\n",
    "        for i in range(len(row)):\n",
    "            padding = row_lengths[i] - len(str(row[i])) + 2\n",
    "            print(f'{\" \" * floor(padding / 2)}{row[i]}{\" \" * ceil(padding / 2)}', end='')\n",
    "        print()\n",
    "\n",
    "def calculate(lamb, mu, n, assistance=False):\n",
    "    ro = lamb / mu\n",
    "    p0 = 1 / sum((1 / factorial(k)) * ro ** k for k in range(n))\n",
    "\n",
    "    p_cancelation = (1 / factorial(n) * (lamb / (n * mu))**n) * (p0 ** n if assistance else p0)\n",
    "    # p_cancelation = 1 / (1 + sum([(ro ** k) / factorial(k) for k in range(n)]))\n",
    "    Q = 1 - p_cancelation\n",
    "    A = lamb * Q\n",
    "    n_o = A / mu\n",
    "\n",
    "    # print(f'Вероятность отказа заявки: {p_cancelation}')\n",
    "    # print(f'Относительная пропускная способность СМО: {Q}')\n",
    "    # print(f'Абсолютную пропускную способность: {A}')\n",
    "    # print(f'Среднее число занятых обслуживанием каналов: {n_o}')\n",
    "\n",
    "    return [p_cancelation, Q, A, n_o]\n",
    "    \n",
    "n = 3\n",
    "lamb = 4\n",
    "mu = 0.5\n",
    "\n",
    "no_assistance = calculate(lamb, mu, n)\n",
    "unlimited_assistance = calculate(lamb, mu, n, assistance=True)\n",
    "uniform_assistance = calculate(lamb, mu, n, assistance=True)\n",
    "\n",
    "print_table([no_assistance, unlimited_assistance, uniform_assistance], \n",
    "            rows=['Без взаимопомощи', 'Неограниченная', 'Равномерная'], \n",
    "            columns=['Вероятность отказа', 'Относительная пропускная способность', 'Абсолютая пропускная способность', 'Среднее число занятых каналов'])"
   ]
  }
 ],
 "metadata": {
  "kernelspec": {
   "display_name": ".venv",
   "language": "python",
   "name": "python3"
  },
  "language_info": {
   "codemirror_mode": {
    "name": "ipython",
    "version": 3
   },
   "file_extension": ".py",
   "mimetype": "text/x-python",
   "name": "python",
   "nbconvert_exporter": "python",
   "pygments_lexer": "ipython3",
   "version": "3.12.0"
  }
 },
 "nbformat": 4,
 "nbformat_minor": 2
}
